{
 "cells": [
  {
   "cell_type": "code",
   "execution_count": null,
   "metadata": {},
   "outputs": [],
   "source": [
    "### Preferred syntax:\n",
    "from client.configurate import Config\n",
    "from client.collect import Collect\n",
    "from client.analyze import Analyze\n",
    "from client.generate import Generate\n",
    "\n",
    "# Quick alternative:\n",
    "# from init import *\n"
   ]
  },
  {
   "cell_type": "code",
   "execution_count": null,
   "metadata": {},
   "outputs": [],
   "source": [
    "parser = Analyze()\n",
    "sim_parser = Analyze(Config(logfile='simulated-keystrokes'))"
   ]
  },
  {
   "cell_type": "code",
   "execution_count": null,
   "metadata": {},
   "outputs": [],
   "source": [
    "parser.visualize_keystroke_times()\n",
    "sim_parser.visualize_keystroke_times()"
   ]
  },
  {
   "cell_type": "code",
   "execution_count": null,
   "metadata": {},
   "outputs": [],
   "source": [
    "def print_analytics(parser: Analyze):\n",
    "    print(f\"Average delay: {parser.get_average_delay()} ms\")\n",
    "    print(f\"Standard deviation: {parser.get_std_deviation()} ms\")\n",
    "    print(f\"Words per minute: {parser.wpm()}\")\n",
    "\n",
    "# \n",
    "print('keystrokes:')\n",
    "print_analytics(parser)\n",
    "print('\\nsimulated-keystrokes:')\n",
    "print_analytics(sim_parser)"
   ]
  }
 ],
 "metadata": {
  "kernelspec": {
   "display_name": "Python 3",
   "language": "python",
   "name": "python3"
  },
  "language_info": {
   "codemirror_mode": {
    "name": "ipython",
    "version": 3
   },
   "file_extension": ".py",
   "mimetype": "text/x-python",
   "name": "python",
   "nbconvert_exporter": "python",
   "pygments_lexer": "ipython3",
   "version": "3.10.10"
  }
 },
 "nbformat": 4,
 "nbformat_minor": 2
}
