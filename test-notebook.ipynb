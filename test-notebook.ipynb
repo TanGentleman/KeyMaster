{
 "cells": [
  {
   "cell_type": "code",
   "execution_count": 17,
   "metadata": {},
   "outputs": [],
   "source": [
    "### This notebook cannot listen or simulate keystrokes. It is for testing the correctness of method outputs."
   ]
  },
  {
   "cell_type": "code",
   "execution_count": 18,
   "metadata": {},
   "outputs": [],
   "source": [
    "from keystrokeLogger import KeystrokeLogger\n",
    "from keystrokeParser import KeystrokeParser"
   ]
  },
  {
   "cell_type": "code",
   "execution_count": 25,
   "metadata": {},
   "outputs": [],
   "source": [
    "logger = KeystrokeLogger()\n",
    "parser = KeystrokeParser()"
   ]
  },
  {
   "cell_type": "code",
   "execution_count": 27,
   "metadata": {},
   "outputs": [
    {
     "data": {
      "text/plain": [
       "['amphibian beaver cobra',\n",
       " \"Medicare's Annual Enrollment Period starts October 15.\",\n",
       " \"im collecting lots and lots of data! I can use punctuation, and I can even use apostrophies, wouldn't it be a shame if I couldn't? :P\",\n",
       " 'g i did it!',\n",
       " '# Test math functions highest_times = parser.get_highest_keystroke_times() print(f\"Highest times: {highest_times}\") avg_time = parser.get_average_time() print(f\"Average time between keystrokes: {avg_time}\") std_dev = ',\n",
       " 'hey there!',\n",
       " 'broccoli is a pretty awesome vegetable!']"
      ]
     },
     "execution_count": 27,
     "metadata": {},
     "output_type": "execute_result"
    }
   ],
   "source": [
    "parser.get_all_strings()"
   ]
  },
  {
   "cell_type": "code",
   "execution_count": 30,
   "metadata": {},
   "outputs": [
    {
     "name": "stdout",
     "output_type": "stream",
     "text": [
      "Word count in all strings: 486\n",
      "Word count for strings with id feb99c26-c0d7-48a7-9cc3-7f58488e109e: 39\n"
     ]
    }
   ],
   "source": [
    "id = parser.id_from_substring(\"broccoli\")\n",
    "string_list = parser.get_all_strings()\n",
    "print(f\"Word count in all strings: {sum(len(string) for string in string_list)}\")\n",
    "string_list_by_id = parser.get_all_strings(id)\n",
    "print(f\"Word count for strings with id {id}: {sum(len(string) for string in string_list_by_id)}\")"
   ]
  },
  {
   "cell_type": "code",
   "execution_count": 37,
   "metadata": {},
   "outputs": [
    {
     "name": "stdout",
     "output_type": "stream",
     "text": [
      "Word count in all strings: 63, 68\n",
      "['amphibian beaver cobra', \"Medicare's Annual Enrollment Period starts October 15.\", \"im collecting lots and lots of data! I can use punctuation, and I can even use apostrophies, wouldn't it be a shame if I couldn't? :P\", 'g i did it!', '# Test math functions highest_times = parser.get_highest_keystroke_times() print(f\"Highest times: {highest_times}\") avg_time = parser.get_average_time() print(f\"Average time between keystrokes: {avg_time}\") std_dev = ', 'hey there!', 'broccoli is a pretty awesome vegetable! ']\n"
     ]
    }
   ],
   "source": [
    "parser2 = KeystrokeParser()\n",
    "stringies = parser2.get_all_strings()\n",
    "def word_count_in_all_strings(string_list):\n",
    "    return sum(string.count(' ') for string in string_list)\n",
    "def alternate_word_count_in_all_strings(string_list):\n",
    "    return sum(len(string.split()) for string in string_list)\n",
    "print(f\"Word count in all strings: {word_count_in_all_strings(stringies)}, {alternate_word_count_in_all_strings(stringies)}\")\n",
    "print(stringies)\n"
   ]
  }
 ],
 "metadata": {
  "kernelspec": {
   "display_name": "Python 3",
   "language": "python",
   "name": "python3"
  },
  "language_info": {
   "codemirror_mode": {
    "name": "ipython",
    "version": 3
   },
   "file_extension": ".py",
   "mimetype": "text/x-python",
   "name": "python",
   "nbconvert_exporter": "python",
   "pygments_lexer": "ipython3",
   "version": "3.10.10"
  },
  "orig_nbformat": 4
 },
 "nbformat": 4,
 "nbformat_minor": 2
}
