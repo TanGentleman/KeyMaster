{
 "cells": [
  {
   "cell_type": "code",
   "execution_count": 2,
   "metadata": {},
   "outputs": [
    {
     "ename": "SyntaxError",
     "evalue": "invalid syntax (keyLogger.py, line 6)",
     "output_type": "error",
     "traceback": [
      "Traceback \u001b[0;36m(most recent call last)\u001b[0m:\n",
      "\u001b[0m  File \u001b[1;32m~/Library/Python/3.10/lib/python/site-packages/IPython/core/interactiveshell.py:3508\u001b[0m in \u001b[1;35mrun_code\u001b[0m\n    exec(code_obj, self.user_global_ns, self.user_ns)\u001b[0m\n",
      "\u001b[0;36m  Cell \u001b[0;32mIn[2], line 8\u001b[0;36m\n\u001b[0;31m    from keyLogger import KeyLogger\u001b[0;36m\n",
      "\u001b[0;36m  File \u001b[0;32m~/Documents/GitHub/Keystroke-AI/keyLogger.py:6\u001b[0;36m\u001b[0m\n\u001b[0;31m    <<<<<<< Updated upstream:keyLogger.py\u001b[0m\n\u001b[0m    ^\u001b[0m\n\u001b[0;31mSyntaxError\u001b[0m\u001b[0;31m:\u001b[0m invalid syntax\n"
     ]
    }
   ],
   "source": [
    "### This notebook should not be used to listen or simulate keystrokes. \n",
    "#### Use it to test methods and ensure consistency between outputs\n",
    "import os\n",
    "import sys\n",
    "# Get the path to root of repo\n",
    "ROOT = os.path.dirname(os.getcwd())\n",
    "sys.path.append(ROOT)\n",
    "from keyLogger import KeyLogger\n",
    "from keyParser import KeyParser\n",
    "from keySimulator import KeySimulator\n",
    "# from keySimulator import main as simulate"
   ]
  },
  {
   "cell_type": "code",
   "execution_count": null,
   "metadata": {},
   "outputs": [],
   "source": [
    "parser = KeyParser()\n",
    "logger = KeyLogger()\n",
    "simulator = KeySimulator()\n",
    "\n"
   ]
  },
  {
   "cell_type": "code",
   "execution_count": null,
   "metadata": {},
   "outputs": [],
   "source": [
    "simulator.main()"
   ]
  },
  {
   "cell_type": "code",
   "execution_count": null,
   "metadata": {},
   "outputs": [],
   "source": [
    "class Cat:\n",
    "    def __init__(self, name, indoor):\n",
    "        self.name = name\n",
    "        self.indoor = indoor\n",
    "        self.color = 'uncolored'\n",
    "    def meow(self):\n",
    "        print(f'{self.name} says meow!')\n",
    "    def set_color(self, color):\n",
    "        self.color = color\n",
    "    def from_dog(dog):\n",
    "        return Cat(dog.name)\n",
    "\n",
    "class Dog:\n",
    "    def __init__(self, name):\n",
    "        self.name = name\n",
    "        self.color = 'uncolored'\n",
    "    def woof(self):\n",
    "        print(f'{self.name} says woof!')\n",
    "    def set_color(self, color):\n",
    "        self.color = color\n",
    "    def from_cat(cat):\n",
    "        return Dog(cat.name)"
   ]
  },
  {
   "cell_type": "code",
   "execution_count": null,
   "metadata": {},
   "outputs": [],
   "source": [
    "manit_dog = Dog('Apollo')\n",
    "manit_dog.set_color('yellow')\n",
    "print(manit_dog.color)"
   ]
  },
  {
   "cell_type": "code",
   "execution_count": null,
   "metadata": {},
   "outputs": [],
   "source": [
    "print(manit_dog.name)\n",
    "print(manit_dog.color)"
   ]
  },
  {
   "cell_type": "code",
   "execution_count": null,
   "metadata": {},
   "outputs": [],
   "source": [
    "manit_dog.set_color('brown')\n",
    "print(manit_dog.color)"
   ]
  },
  {
   "cell_type": "code",
   "execution_count": null,
   "metadata": {},
   "outputs": [],
   "source": [
    "my_cat = Cat('Luna', indoor=True)\n",
    "new_dog = Dog.from_cat(my_cat)\n",
    "new_dog.woof()"
   ]
  },
  {
   "cell_type": "code",
   "execution_count": null,
   "metadata": {},
   "outputs": [],
   "source": []
  },
  {
   "cell_type": "code",
   "execution_count": null,
   "metadata": {},
   "outputs": [],
   "source": []
  }
 ],
 "metadata": {
  "kernelspec": {
   "display_name": "Python 3",
   "language": "python",
   "name": "python3"
  },
  "language_info": {
   "codemirror_mode": {
    "name": "ipython",
    "version": 3
   },
   "file_extension": ".py",
   "mimetype": "text/x-python",
   "name": "python",
   "nbconvert_exporter": "python",
   "pygments_lexer": "ipython3",
   "version": "3.10.10"
  },
  "orig_nbformat": 4
 },
 "nbformat": 4,
 "nbformat_minor": 2
}
