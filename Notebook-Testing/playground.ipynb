{
 "cells": [
  {
   "cell_type": "code",
   "execution_count": null,
   "metadata": {},
   "outputs": [],
   "source": [
    "### This notebook should not be used to listen or simulate keystrokes. \n",
    "#### Use it to test methods and ensure consistency between outputs\n",
    "import os\n",
    "import sys\n",
    "# Get the path to root of repo\n",
    "ROOT = os.path.dirname(os.getcwd())\n",
    "sys.path.append(ROOT)\n",
    "# from keyLogger import KeyLogger\n",
    "from keyParser import KeyParser\n",
    "# from keySimulator import KeySimulator\n",
    "# from keySimulator import main as simulate\n",
    "from compatibility import string_to_keystroke_list"
   ]
  },
  {
   "cell_type": "code",
   "execution_count": null,
   "metadata": {},
   "outputs": [],
   "source": [
    "parser = KeyParser(None)\n",
    "# logger = KeyLogger()\n",
    "# simulator = KeySimulator()"
   ]
  },
  {
   "cell_type": "code",
   "execution_count": null,
   "metadata": {},
   "outputs": [],
   "source": [
    "string1 = \"[Keystroke(key='h', time=None), Keystroke(key='e', time=0.0831), Keystroke(key='y', time=0.1269), Keystroke(key=Key.space, time=0.1408), Keystroke(key='l', time=0.1265), Keystroke(key='o', time=0.1762), Keystroke(key='o', time=0.1381), Keystroke(key='k', time=0.069), Keystroke(key=Key.space, time=0.4132), Keystroke(key='m', time=0.187), Keystroke(key='a', time=0.1005), Keystroke(key=',', time=0.1716), Keystroke(key=Key.space, time=0.2009), Keystroke(key='a', time=0.2208), Keystroke(key=Key.space, time=0.115), Keystroke(key='s', time=0.1336), Keystroke(key='i', time=0.1101), Keystroke(key='m', time=0.0755), Keystroke(key='u', time=0.2088), Keystroke(key='l', time=0.1899), Keystroke(key='a', time=0.0839), Keystroke(key='t', time=0.2388), Keystroke(key='i', time=0.0734), Keystroke(key='o', time=0.2109), Keystroke(key='n', time=0.0849), Keystroke(key=Key.shift, time=0.227), Keystroke(key='!', time=0.22)]\"\n",
    "string2 = \"[Keystroke(key=h, time=None), Keystroke(key=e, time=0.1381), Keystroke(key=y, time=0.1004), Keystroke(key=Key.space, time=0.0799), Keystroke(key=l, time=0.0943), Keystroke(key=o, time=0.0852), Keystroke(key=o, time=0.0813), Keystroke(key=k, time=0.1066), Keystroke(key=Key.space, time=0.1216), Keystroke(key=m, time=0.0803), Keystroke(key=a, time=0.1192), Keystroke(key=,, time=0.1249), Keystroke(key=Key.space, time=0.1163), Keystroke(key=a, time=0.1007), Keystroke(key=Key.space, time=0.1017), Keystroke(key=s, time=0.1072), Keystroke(key=i, time=0.1224), Keystroke(key=m, time=0.1175), Keystroke(key=u, time=0.0876), Keystroke(key=l, time=0.0876), Keystroke(key=a, time=0.1039), Keystroke(key=t, time=0.1195), Keystroke(key=i, time=0.0986), Keystroke(key=o, time=0.1056), Keystroke(key=n, time=0.1004), Keystroke(key=Key.shift, time=0.227),Keystroke(key=!, time=0.1126)]\"\n",
    "print(len(string_to_keystroke_list(string1)), len(string_to_keystroke_list(string2)))"
   ]
  },
  {
   "cell_type": "code",
   "execution_count": null,
   "metadata": {},
   "outputs": [],
   "source": [
    "keys1 = string_to_keystroke_list(string1)\n",
    "keys2 = string_to_keystroke_list(string2)\n",
    "\n",
    "parser.visualize_keystroke_differences(keys1, keys2)"
   ]
  },
  {
   "cell_type": "code",
   "execution_count": null,
   "metadata": {},
   "outputs": [],
   "source": []
  }
 ],
 "metadata": {
  "kernelspec": {
   "display_name": "Python 3",
   "language": "python",
   "name": "python3"
  },
  "language_info": {
   "codemirror_mode": {
    "name": "ipython",
    "version": 3
   },
   "file_extension": ".py",
   "mimetype": "text/x-python",
   "name": "python",
   "nbconvert_exporter": "python",
   "pygments_lexer": "ipython3",
   "version": "3.10.10"
  },
  "orig_nbformat": 4
 },
 "nbformat": 4,
 "nbformat_minor": 2
}
