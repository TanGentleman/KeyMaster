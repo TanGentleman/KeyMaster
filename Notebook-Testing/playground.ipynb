{
 "cells": [
  {
   "cell_type": "code",
   "execution_count": 1,
   "metadata": {},
   "outputs": [],
   "source": [
    "from keyLogger import KeyLogger\n",
    "from keyParser import KeyParser\n",
    "from keySimulator import KeySimulator"
   ]
  },
  {
   "cell_type": "code",
   "execution_count": 2,
   "metadata": {},
   "outputs": [],
   "source": [
    "parser = KeyParser()\n",
    "logger = KeyLogger()\n",
    "simulator = KeySimulator()\n",
    "\n"
   ]
  },
  {
   "cell_type": "code",
   "execution_count": 3,
   "metadata": {},
   "outputs": [
    {
     "data": {
      "text/plain": [
       "[Keystroke(key=h, time=None),\n",
       " Keystroke(key=e, time=0.099),\n",
       " Keystroke(key=y, time=0.1354),\n",
       " Keystroke(key=Key.space, time=0.1051),\n",
       " Keystroke(key=l, time=0.1218),\n",
       " Keystroke(key=o, time=0.1311),\n",
       " Keystroke(key=o, time=0.1646),\n",
       " Keystroke(key=k, time=0.1233),\n",
       " Keystroke(key=Key.space, time=0.0705),\n",
       " Keystroke(key=m, time=0.104),\n",
       " Keystroke(key=a, time=0.0783),\n",
       " Keystroke(key=,, time=0.1334),\n",
       " Keystroke(key=Key.space, time=0.122),\n",
       " Keystroke(key=a, time=0.1026),\n",
       " Keystroke(key=Key.space, time=0.1384),\n",
       " Keystroke(key=s, time=0.1396),\n",
       " Keystroke(key=i, time=0.1638),\n",
       " Keystroke(key=m, time=0.1589),\n",
       " Keystroke(key=u, time=0.116),\n",
       " Keystroke(key=l, time=0.1267),\n",
       " Keystroke(key=a, time=0.1045),\n",
       " Keystroke(key=t, time=0.1177),\n",
       " Keystroke(key=i, time=0.124),\n",
       " Keystroke(key=o, time=0.1355),\n",
       " Keystroke(key=n, time=0.1257),\n",
       " Keystroke(key=!, time=0.1041)]"
      ]
     },
     "execution_count": 3,
     "metadata": {},
     "output_type": "execute_result"
    }
   ],
   "source": [
    "simulator.main()"
   ]
  },
  {
   "cell_type": "code",
   "execution_count": null,
   "metadata": {},
   "outputs": [],
   "source": [
    "from pynput.keyboard import Key, Controller\n",
    "keyboard = Controller()\n",
    "keyboard.type(\"\\\\\")"
   ]
  }
 ],
 "metadata": {
  "kernelspec": {
   "display_name": "Python 3",
   "language": "python",
   "name": "python3"
  },
  "language_info": {
   "codemirror_mode": {
    "name": "ipython",
    "version": 3
   },
   "file_extension": ".py",
   "mimetype": "text/x-python",
   "name": "python",
   "nbconvert_exporter": "python",
   "pygments_lexer": "ipython3",
   "version": "3.10.10"
  },
  "orig_nbformat": 4
 },
 "nbformat": 4,
 "nbformat_minor": 2
}
