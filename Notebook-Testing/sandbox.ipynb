{
 "cells": [
  {
   "cell_type": "code",
   "execution_count": 1,
   "metadata": {},
   "outputs": [],
   "source": [
    "### This notebook should not be used to listen or simulate keystrokes. \n",
    "#### Use it to test methods and ensure consistency between outputs\n",
    "import os\n",
    "import sys\n",
    "# Get the path to root of repo\n",
    "ROOT = os.path.dirname(os.getcwd())\n",
    "sys.path.append(ROOT)\n",
    "from keyLogger import KeyLogger\n",
    "from keyParser import KeyParser\n",
    "from keySimulator import KeySimulator\n",
    "# from keySimulator import main as simulate"
   ]
  },
  {
   "cell_type": "code",
   "execution_count": 2,
   "metadata": {},
   "outputs": [
    {
     "name": "stderr",
     "output_type": "stream",
     "text": [
      "This process is not trusted! Input event monitoring will not be possible until it is added to accessibility clients.\n"
     ]
    },
    {
     "name": "stdout",
     "output_type": "stream",
     "text": [
      "Listener started. Type your text. The listener will stop after 50 words have been typed or when you press ESC.\n",
      "Listener stopped.\n"
     ]
    },
    {
     "ename": "TypeError",
     "evalue": "'str' object does not support item assignment",
     "output_type": "error",
     "traceback": [
      "\u001b[0;31m---------------------------------------------------------------------------\u001b[0m",
      "\u001b[0;31mTypeError\u001b[0m                                 Traceback (most recent call last)",
      "\u001b[1;32m/Users/tanujvasudeva/Documents/GitHub/Keystroke-AI/Notebook-Testing/sandbox.ipynb Cell 2\u001b[0m line \u001b[0;36m1\n\u001b[1;32m      <a href='vscode-notebook-cell:/Users/tanujvasudeva/Documents/GitHub/Keystroke-AI/Notebook-Testing/sandbox.ipynb#W2sZmlsZQ%3D%3D?line=6'>7</a>\u001b[0m data \u001b[39m=\u001b[39m {\u001b[39m\"\u001b[39m\u001b[39mid\u001b[39m\u001b[39m\"\u001b[39m: \u001b[39m\"\u001b[39m\u001b[39m1\u001b[39m\u001b[39m\"\u001b[39m, \u001b[39m\"\u001b[39m\u001b[39mstring\u001b[39m\u001b[39m\"\u001b[39m: \u001b[39m\"\u001b[39m\u001b[39mbruh\u001b[39m\u001b[39m\"\u001b[39m, \u001b[39m\"\u001b[39m\u001b[39mkeystrokes\u001b[39m\u001b[39m\"\u001b[39m: keystrokes}\n\u001b[1;32m      <a href='vscode-notebook-cell:/Users/tanujvasudeva/Documents/GitHub/Keystroke-AI/Notebook-Testing/sandbox.ipynb#W2sZmlsZQ%3D%3D?line=7'>8</a>\u001b[0m \u001b[39mfor\u001b[39;00m log_data \u001b[39min\u001b[39;00m data:\n\u001b[1;32m      <a href='vscode-notebook-cell:/Users/tanujvasudeva/Documents/GitHub/Keystroke-AI/Notebook-Testing/sandbox.ipynb#W2sZmlsZQ%3D%3D?line=8'>9</a>\u001b[0m     \u001b[39m# Instantiate Keystrokes and replace them in each log\u001b[39;00m\n\u001b[0;32m---> <a href='vscode-notebook-cell:/Users/tanujvasudeva/Documents/GitHub/Keystroke-AI/Notebook-Testing/sandbox.ipynb#W2sZmlsZQ%3D%3D?line=9'>10</a>\u001b[0m     log_data[\u001b[39m'\u001b[39;49m\u001b[39mkeystrokes\u001b[39;49m\u001b[39m'\u001b[39;49m] \u001b[39m=\u001b[39m keystrokes\n\u001b[1;32m     <a href='vscode-notebook-cell:/Users/tanujvasudeva/Documents/GitHub/Keystroke-AI/Notebook-Testing/sandbox.ipynb#W2sZmlsZQ%3D%3D?line=10'>11</a>\u001b[0m     logs\u001b[39m.\u001b[39mappend(log_data)\n\u001b[1;32m     <a href='vscode-notebook-cell:/Users/tanujvasudeva/Documents/GitHub/Keystroke-AI/Notebook-Testing/sandbox.ipynb#W2sZmlsZQ%3D%3D?line=11'>12</a>\u001b[0m parser\u001b[39m.\u001b[39mlogs \u001b[39m=\u001b[39m logs\n",
      "\u001b[0;31mTypeError\u001b[0m: 'str' object does not support item assignment"
     ]
    }
   ],
   "source": [
    "logger = KeyLogger()\n",
    "logger.start_listener()\n",
    "# success = logger.save_log()\n",
    "keystrokes = logger.keystrokes\n",
    "parser = KeyParser()\n",
    "logs = []\n",
    "data = {\"id\": \"1\", \"string\": \"bruh\", \"keystrokes\": keystrokes}\n",
    "for log_data in data:\n",
    "    # Instantiate Keystrokes and replace them in each log\n",
    "    log_data['keystrokes'] = keystrokes\n",
    "    logs.append(log_data)\n",
    "parser.logs = logs\n",
    "parser.print_strings()\n",
    "success = False\n",
    "if success:\n",
    "    from time import sleep\n",
    "    print(\"\\nLog saved. Now simulating keystrokes...\\n\")\n",
    "    sleep(2)\n",
    "    simulator = KeySimulator()\n",
    "    keys = logger.keystrokes\n",
    "    # print(keys)\n",
    "    simulator.simulate_keystrokes(keys)"
   ]
  },
  {
   "cell_type": "code",
   "execution_count": null,
   "metadata": {},
   "outputs": [],
   "source": []
  }
 ],
 "metadata": {
  "kernelspec": {
   "display_name": "Python 3",
   "language": "python",
   "name": "python3"
  },
  "language_info": {
   "codemirror_mode": {
    "name": "ipython",
    "version": 3
   },
   "file_extension": ".py",
   "mimetype": "text/x-python",
   "name": "python",
   "nbconvert_exporter": "python",
   "pygments_lexer": "ipython3",
   "version": "3.10.10"
  },
  "orig_nbformat": 4
 },
 "nbformat": 4,
 "nbformat_minor": 2
}
